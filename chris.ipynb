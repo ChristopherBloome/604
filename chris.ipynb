{
 "cells": [
  {
   "cell_type": "markdown",
   "metadata": {},
   "source": [
    "# Risk Analysis \n",
    "Christopher Bloome\n",
    "\n",
    "Data 604 - Discussion 1 "
   ]
  },
  {
   "cell_type": "markdown",
   "metadata": {},
   "source": [
    "In the last few weeks, with COVID-19 quarantine in full effect, my fiance and I have turned to board games as a way to pass the time. The war simulation game, Risk, has an interesting set of rules in place during its battle mechanic, resulting in a situation where it's not clear which side has the advantage. I wanted to model this to learn more about how this operates. \n",
    "\n",
    "Risk involves a series of \"battles\" over territories. There is an Offensive and Defense side in any given battle. The Offensive side is allowed to attack with 3 units, while the defensive team can only defend with 2. We represent these units by the roll of a traditional 6 sided die. The greatest valued unit (as determined by the dice roll) of each side \"face off\" so to speak, as do the second highest - neither side is allowed to adjust to a more favorable matchup. If the Offensive side of each pairing has a higher value, it captures the defensive unit. Similarly, this relationship holds true with the defensive side as well - if the defensive side of the pairing is greater than the offensive, the offensive unit is captured. What makes this interesting, if the pairing has equal values, the defensive team captures the offensive unit. \n",
    "\n",
    "A few notes: in turns where the Offensive Side attacks with 3 dice, the lowest value is essentially discarded. In other words - the Offensive side can only lose up to two units. Additionally, it's worth noting there are 3 potential outcomes, the Offensive side can capture two of the defensive, the Defensive unit can capture two of the Offensive, and one from each team can be captured. Finally, when a piece is captured - it is removed from play entirely - it does not \"change teams.\"\n",
    "\n",
    "For the sake of this model, we will run one thousand 3 vs 2 matchups with the above rules and view the aggregate units captured. \n"
   ]
  },
  {
   "cell_type": "code",
   "execution_count": 52,
   "metadata": {},
   "outputs": [],
   "source": [
    "# Import Packages\n",
    "import random\n",
    "from modsim import *"
   ]
  },
  {
   "cell_type": "code",
   "execution_count": 59,
   "metadata": {},
   "outputs": [],
   "source": [
    "# Create State, and Results time series\n",
    "Troops = State(Offense = 0, Defense = 0)\n",
    "ResultsO = TimeSeries()\n",
    "ResultsD = TimeSeries()"
   ]
  },
  {
   "cell_type": "code",
   "execution_count": 60,
   "metadata": {},
   "outputs": [],
   "source": [
    "for i in range(1000):\n",
    "    # Roll each die individually \n",
    "    O1 = random.randint(1,6)\n",
    "    O2 = random.randint(1,6)\n",
    "    O3 = random.randint(1,6)\n",
    "    D1 = random.randint(1,6)\n",
    "    D2 = random.randint(1,6)\n",
    "    \n",
    "    # put dice into lists with Offensive and Deffensive sides\n",
    "    listO = [O1, O2, O3]\n",
    "    listD = [D1, D2]\n",
    "    \n",
    "    # sort from highest to lowest value within side\n",
    "    listO.sort(reverse = True)\n",
    "    listD.sort(reverse = True)\n",
    "\n",
    "    # simulate matchups \n",
    "    if(listO[0]>listD[0]):\n",
    "        Troops.Offense += 1\n",
    "    else:\n",
    "        Troops.Defense += 1\n",
    "        \n",
    "    if(listO[1]>listD[1]):\n",
    "        Troops.Offense += 1\n",
    "    else:\n",
    "        Troops.Defense += 1\n",
    "    \n",
    "    # drop outcomes in vector for time series analysis \n",
    "    ResultsO[i] = Troops.Offense\n",
    "    ResultsD[i] = Troops.Defense\n"
   ]
  },
  {
   "cell_type": "code",
   "execution_count": 70,
   "metadata": {},
   "outputs": [
    {
     "data": {
      "text/plain": [
       "[<matplotlib.lines.Line2D at 0x239328e61c8>]"
      ]
     },
     "execution_count": 70,
     "metadata": {},
     "output_type": "execute_result"
    },
    {
     "data": {
      "image/png": "[encoded data removed]",
      "text/plain": [
       "<Figure size 432x288 with 1 Axes>"
      ]
     },
     "metadata": {},
     "output_type": "display_data"
    }
   ],
   "source": [
    "# plot Offensive captures in red and Deffensive in blue\n",
    "plot(ResultsO, color = \"red\")\n",
    "plot(ResultsD, color = \"blue\")"
   ]
  }
 ],
 "metadata": {
  "kernelspec": {
   "display_name": "Python 3",
   "language": "python",
   "name": "python3"
  },
  "language_info": {
   "codemirror_mode": {
    "name": "ipython",
    "version": 3
   },
   "file_extension": ".py",
   "mimetype": "text/x-python",
   "name": "python",
   "nbconvert_exporter": "python",
   "pygments_lexer": "ipython3",
   "version": "3.7.6"
  }
 },
 "nbformat": 4,
 "nbformat_minor": 4
}
